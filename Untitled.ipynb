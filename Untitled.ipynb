{
 "cells": [
  {
   "cell_type": "code",
   "execution_count": null,
   "metadata": {},
   "outputs": [],
   "source": [
    "from socket import *\n",
    "\n",
    "serverSock = socket(AF_INET, SOCK_STREAM)\n",
    "serverSock.bind(('192.168.137.15', 8080))\n",
    "serverSock.listen(0)\n",
    "connectionSock, addr = serverSock.accept()\n",
    "print(str(addr),'에서 접속이 확인되었습니다.')\n",
    "\n",
    "while True:\n",
    "    data = connectionSock.recv(8192)\n",
    "    print('받은 데이터 : ', data.decode('utf-8'))\n",
    "\n",
    "    connectionSock.send(data)\n",
    "\n",
    "    if(data.decode('utf-8') == '-1'):\n",
    "        print(\"연결 종료!\")\n",
    "        break"
   ]
  }
 ],
 "metadata": {
  "kernelspec": {
   "display_name": "Python 3",
   "language": "python",
   "name": "python3"
  }
 },
 "nbformat": 4,
 "nbformat_minor": 2
}
